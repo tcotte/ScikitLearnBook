{
 "cells": [
  {
   "cell_type": "code",
   "execution_count": 346,
   "metadata": {
    "collapsed": true,
    "pycharm": {
     "is_executing": false
    }
   },
   "outputs": [],
   "source": [
    "from sklearn.svm import LinearSVC\n",
    "from common_functions import *\n",
    "\n",
    "PATH = \"../datasets/Diabete\"\n",
    "diabete_dataset = load_housing_data(PATH, \"datasets_diabetes.csv\")"
   ]
  },
  {
   "cell_type": "code",
   "execution_count": 347,
   "outputs": [
    {
     "name": "stdout",
     "text": [
      "<class 'pandas.core.frame.DataFrame'>\n",
      "RangeIndex: 768 entries, 0 to 767\n",
      "Data columns (total 9 columns):\n",
      " #   Column                    Non-Null Count  Dtype  \n",
      "---  ------                    --------------  -----  \n",
      " 0   Pregnancies               768 non-null    int64  \n",
      " 1   Glucose                   768 non-null    int64  \n",
      " 2   BloodPressure             768 non-null    int64  \n",
      " 3   SkinThickness             768 non-null    int64  \n",
      " 4   Insulin                   768 non-null    int64  \n",
      " 5   BMI                       768 non-null    float64\n",
      " 6   DiabetesPedigreeFunction  768 non-null    float64\n",
      " 7   Age                       768 non-null    int64  \n",
      " 8   Outcome                   768 non-null    int64  \n",
      "dtypes: float64(2), int64(7)\n",
      "memory usage: 54.1 KB\n"
     ],
     "output_type": "stream"
    }
   ],
   "source": [
    "diabete_dataset.info()\n",
    "X = diabete_dataset.drop(['Outcome'], axis=1)\n",
    "y = diabete_dataset['Outcome']"
   ],
   "metadata": {
    "collapsed": false,
    "pycharm": {
     "name": "#%%\n",
     "is_executing": false
    }
   }
  },
  {
   "cell_type": "code",
   "execution_count": 348,
   "outputs": [],
   "source": [
    "from sklearn.model_selection import train_test_split\n",
    "\n",
    "X_train, X_test, y_train, y_test = train_test_split(X, y, test_size=0.2, random_state=42)"
   ],
   "metadata": {
    "collapsed": false,
    "pycharm": {
     "name": "#%%\n",
     "is_executing": false
    }
   }
  },
  {
   "cell_type": "code",
   "execution_count": 349,
   "outputs": [
    {
     "data": {
      "text/plain": "99     16\n100    15\n125    13\n129    12\n108    12\n       ..\n198     1\n150     1\n149     1\n135     1\n199     1\nName: Glucose, Length: 133, dtype: int64"
     },
     "metadata": {},
     "output_type": "execute_result",
     "execution_count": 349
    }
   ],
   "source": [
    "X_train['Glucose'].value_counts()"
   ],
   "metadata": {
    "collapsed": false,
    "pycharm": {
     "name": "#%%\n",
     "is_executing": false
    }
   }
  },
  {
   "cell_type": "code",
   "execution_count": 350,
   "outputs": [],
   "source": [
    "%matplotlib inline\n",
    "from matplotlib import pyplot as plt\n",
    "\n",
    "def plot_dataset(X, y):\n",
    "    print(type(X))\n",
    "    plt.scatter(X.values[:, 0], X.values[:, 1], c = y.values[:,0])\n",
    "    plt.title('Age and glucose vs diabete')\n",
    "    \n",
    "# X_train\n",
    "# var = X_train.to_numpy()\n",
    "# plot_dataset(X_train, y_train)\n",
    "# plt.show()\n",
    "    "
   ],
   "metadata": {
    "collapsed": false,
    "pycharm": {
     "name": "#%%\n",
     "is_executing": false
    }
   }
  },
  {
   "cell_type": "code",
   "execution_count": 351,
   "outputs": [],
   "source": [
    "# Keep the columns which have a good correlation with the outcomme\n",
    "def find_important_features(threshold, full_dataset):\n",
    "    corr_matrix = diabete_dataset.corr()\n",
    "    matrix = corr_matrix['Outcome'].sort_values(ascending=False)\n",
    "    \n",
    "    important_features = []\n",
    "    for column_name, corr_nb in matrix.items():\n",
    "        if abs(corr_nb) > threshold and corr_nb!=1:\n",
    "            important_features.append(column_name)\n",
    "    print(important_features)\n",
    "    return important_features"
   ],
   "metadata": {
    "collapsed": false,
    "pycharm": {
     "name": "#%%\n",
     "is_executing": false
    }
   }
  },
  {
   "cell_type": "code",
   "execution_count": 352,
   "outputs": [],
   "source": [
    "# Create our own transformer to retrieve only feature with a correlation above the chosen threshold\n",
    "from sklearn.base import BaseEstimator\n",
    "from sklearn.base import TransformerMixin\n",
    "\n",
    "class ImportantFeatures(BaseEstimator, TransformerMixin):\n",
    "    def __init__(self, feature_names):\n",
    "        self._feature_names = feature_names\n",
    "    def fit(self, X, y=None):\n",
    "        return self\n",
    "    def transform(self, X, y=None):\n",
    "        return X[self._feature_names]\n",
    "\n",
    "\n",
    "# trans = ImportantFeatures(find_important_features(0.2, diabete_dataset))\n",
    "# trans = ImportantFeatures(features)\n",
    "# X = trans.transform(X_train)\n",
    "# X"
   ],
   "metadata": {
    "collapsed": false,
    "pycharm": {
     "name": "#%%\n",
     "is_executing": false
    }
   }
  },
  {
   "cell_type": "code",
   "execution_count": 353,
   "outputs": [
    {
     "name": "stdout",
     "text": [
      "['Glucose', 'BMI']\n"
     ],
     "output_type": "stream"
    },
    {
     "data": {
      "text/plain": "array([[-1.15139792, -4.13525578],\n       [-0.27664283, -0.48916881],\n       [ 0.56687102, -0.42452187],\n       ...,\n       [-0.62029661,  1.76054443],\n       [ 0.62935353,  1.34680407],\n       [ 0.12949347, -1.22614383]])"
     },
     "metadata": {},
     "output_type": "execute_result",
     "execution_count": 353
    }
   ],
   "source": [
    "from sklearn.pipeline import Pipeline\n",
    "from sklearn.preprocessing import StandardScaler\n",
    "\n",
    "C=5\n",
    "alpha = 1 / (C * len(X))\n",
    "\n",
    "pipeline = Pipeline(steps=[\n",
    "    ('keep_important', ImportantFeatures(find_important_features(0.25, diabete_dataset))),\n",
    "    ('scaler', StandardScaler()),\n",
    "    # ('svc', LinearSVC())\n",
    "])\n",
    "\n",
    "X_train_prepared = pipeline.fit_transform(X_train)\n",
    "X_train_prepared"
   ],
   "metadata": {
    "collapsed": false,
    "pycharm": {
     "name": "#%%\n",
     "is_executing": false
    }
   }
  },
  {
   "cell_type": "markdown",
   "source": [
    "### Train a LinearSVC"
   ],
   "metadata": {
    "collapsed": false,
    "pycharm": {
     "name": "#%% md\n"
    }
   }
  },
  {
   "cell_type": "code",
   "execution_count": 354,
   "outputs": [
    {
     "name": "stderr",
     "text": [
      "c:\\users\\user\\appdata\\local\\programs\\python\\python38\\lib\\site-packages\\sklearn\\svm\\_base.py:976: ConvergenceWarning: Liblinear failed to converge, increase the number of iterations.\n",
      "  warnings.warn(\"Liblinear failed to converge, increase \"\n"
     ],
     "output_type": "stream"
    },
    {
     "data": {
      "text/plain": "LinearSVC(C=5)"
     },
     "metadata": {},
     "output_type": "execute_result",
     "execution_count": 354
    }
   ],
   "source": [
    "from sklearn.svm import LinearSVC\n",
    "l_svc = LinearSVC(C=C)\n",
    "l_svc.fit(X_train_prepared, y_train)"
   ],
   "metadata": {
    "collapsed": false,
    "pycharm": {
     "name": "#%% \n",
     "is_executing": false
    }
   }
  },
  {
   "cell_type": "markdown",
   "source": [
    "Use the pipeline on the test set"
   ],
   "metadata": {
    "collapsed": false,
    "pycharm": {
     "name": "#%% md\n"
    }
   }
  },
  {
   "cell_type": "code",
   "execution_count": 355,
   "outputs": [
    {
     "data": {
      "text/plain": "array([[85, 14],\n       [21, 34]], dtype=int64)"
     },
     "metadata": {},
     "output_type": "execute_result",
     "execution_count": 355
    }
   ],
   "source": [
    "from sklearn.metrics import confusion_matrix\n",
    "y_pred = l_svc.predict(pipeline.fit_transform(X_test))\n",
    "confusion_matrix(y_test, y_pred)\n"
   ],
   "metadata": {
    "collapsed": false,
    "pycharm": {
     "name": "#%%\n",
     "is_executing": false
    }
   }
  },
  {
   "cell_type": "code",
   "execution_count": 356,
   "outputs": [
    {
     "data": {
      "text/plain": "0.6601941747572815"
     },
     "metadata": {},
     "output_type": "execute_result",
     "execution_count": 356
    }
   ],
   "source": [
    "from sklearn.metrics import f1_score\n",
    "f1_score(y_test, y_pred)"
   ],
   "metadata": {
    "collapsed": false,
    "pycharm": {
     "name": "#%%\n",
     "is_executing": false
    }
   }
  },
  {
   "cell_type": "markdown",
   "source": [
    "### Train a SVC"
   ],
   "metadata": {
    "collapsed": false,
    "pycharm": {
     "name": "#%% md\n"
    }
   }
  },
  {
   "cell_type": "code",
   "execution_count": 357,
   "outputs": [
    {
     "data": {
      "text/plain": "SVC(C=5, kernel='linear')"
     },
     "metadata": {},
     "output_type": "execute_result",
     "execution_count": 357
    }
   ],
   "source": [
    "from sklearn.svm import SVC\n",
    "svc = SVC(kernel=\"linear\", C=C)\n",
    "svc.fit(X_train_prepared, y_train)"
   ],
   "metadata": {
    "collapsed": false,
    "pycharm": {
     "name": "#%%\n",
     "is_executing": false
    }
   }
  },
  {
   "cell_type": "markdown",
   "source": [
    "Use the pipeline on the test set"
   ],
   "metadata": {
    "collapsed": false
   }
  },
  {
   "cell_type": "code",
   "execution_count": 358,
   "outputs": [
    {
     "data": {
      "text/plain": "array([[85, 14],\n       [21, 34]], dtype=int64)"
     },
     "metadata": {},
     "output_type": "execute_result",
     "execution_count": 358
    }
   ],
   "source": [
    "from sklearn.metrics import confusion_matrix\n",
    "y_pred_svc = svc.predict(pipeline.fit_transform(X_test))\n",
    "confusion_matrix(y_test, y_pred_svc)"
   ],
   "metadata": {
    "collapsed": false,
    "pycharm": {
     "name": "#%%\n",
     "is_executing": false
    }
   }
  },
  {
   "cell_type": "code",
   "execution_count": 359,
   "outputs": [
    {
     "data": {
      "text/plain": "0.6601941747572815"
     },
     "metadata": {},
     "output_type": "execute_result",
     "execution_count": 359
    }
   ],
   "source": [
    "from sklearn.metrics import f1_score\n",
    "f1_score(y_test, y_pred_svc)\n"
   ],
   "metadata": {
    "collapsed": false,
    "pycharm": {
     "name": "#%%\n",
     "is_executing": false
    }
   }
  },
  {
   "cell_type": "markdown",
   "source": [
    "### Train a SGD Classifier"
   ],
   "metadata": {
    "collapsed": false
   }
  },
  {
   "cell_type": "code",
   "execution_count": 360,
   "outputs": [
    {
     "data": {
      "text/plain": "SGDClassifier()"
     },
     "metadata": {},
     "output_type": "execute_result",
     "execution_count": 360
    }
   ],
   "source": [
    "from sklearn.linear_model import SGDClassifier\n",
    "sgd_clf = SGDClassifier()\n",
    "sgd_clf.fit(X_train_prepared, y_train)"
   ],
   "metadata": {
    "collapsed": false,
    "pycharm": {
     "name": "#%%\n",
     "is_executing": false
    }
   }
  },
  {
   "cell_type": "markdown",
   "source": [
    "Use the pipeline on the test set"
   ],
   "metadata": {
    "collapsed": false
   }
  },
  {
   "cell_type": "code",
   "execution_count": 361,
   "outputs": [
    {
     "data": {
      "text/plain": "array([[80, 19],\n       [20, 35]], dtype=int64)"
     },
     "metadata": {},
     "output_type": "execute_result",
     "execution_count": 361
    }
   ],
   "source": [
    "from sklearn.metrics import confusion_matrix\n",
    "y_pred_sgd = sgd_clf.predict(pipeline.fit_transform(X_test))\n",
    "confusion_matrix(y_test, y_pred_sgd)"
   ],
   "metadata": {
    "collapsed": false,
    "pycharm": {
     "name": "#%%\n",
     "is_executing": false
    }
   }
  },
  {
   "cell_type": "code",
   "execution_count": 362,
   "outputs": [
    {
     "data": {
      "text/plain": "0.6422018348623852"
     },
     "metadata": {},
     "output_type": "execute_result",
     "execution_count": 362
    }
   ],
   "source": [
    "from sklearn.metrics import f1_score\n",
    "f1_score(y_test, y_pred_sgd)"
   ],
   "metadata": {
    "collapsed": false,
    "pycharm": {
     "name": "#%%\n",
     "is_executing": false
    }
   }
  },
  {
   "cell_type": "markdown",
   "source": [
    "### Comparator array"
   ],
   "metadata": {
    "collapsed": false
   }
  },
  {
   "cell_type": "code",
   "execution_count": 363,
   "outputs": [
    {
     "data": {
      "text/plain": "          Linear SVC       SVC       SGD\nF1 score    0.660194  0.660194  0.642202",
      "text/html": "<div>\n<style scoped>\n    .dataframe tbody tr th:only-of-type {\n        vertical-align: middle;\n    }\n\n    .dataframe tbody tr th {\n        vertical-align: top;\n    }\n\n    .dataframe thead th {\n        text-align: right;\n    }\n</style>\n<table border=\"1\" class=\"dataframe\">\n  <thead>\n    <tr style=\"text-align: right;\">\n      <th></th>\n      <th>Linear SVC</th>\n      <th>SVC</th>\n      <th>SGD</th>\n    </tr>\n  </thead>\n  <tbody>\n    <tr>\n      <th>F1 score</th>\n      <td>0.660194</td>\n      <td>0.660194</td>\n      <td>0.642202</td>\n    </tr>\n  </tbody>\n</table>\n</div>"
     },
     "metadata": {},
     "output_type": "execute_result",
     "execution_count": 363
    }
   ],
   "source": [
    "f1_scores = [f1_score(y_test, y_pred), f1_score(y_test, y_pred_svc), f1_score(y_test, y_pred_sgd)]\n",
    "classifiers = [\"Linear SVC\", \"SVC\", \"SGD\"]\n",
    "\n",
    "d = {\n",
    "    classifiers[0]: [f1_score(y_test, y_pred)],\n",
    "    classifiers[1] : [f1_score(y_test, y_pred_svc)],\n",
    "    classifiers[2] : [f1_score(y_test, y_pred_sgd)]\n",
    "}\n",
    "error_array = pd.DataFrame(data=d, index=[\"F1 score\"])\n",
    "error_array"
   ],
   "metadata": {
    "collapsed": false,
    "pycharm": {
     "name": "#%%\n",
     "is_executing": false
    }
   }
  },
  {
   "cell_type": "markdown",
   "source": [
    "The two most important features are glucose and BMI. We evaluated the classfiers on this two features. Now, we are going\n",
    "to plot this models."
   ],
   "metadata": {
    "collapsed": false
   }
  },
  {
   "cell_type": "code",
   "execution_count": 373,
   "outputs": [
    {
     "data": {
      "text/plain": "<Figure size 432x288 with 1 Axes>",
      "image/png": "[encoded data removed]"
     },
     "metadata": {
      "needs_background": "light"
     },
     "output_type": "display_data"
    }
   ],
   "source": [
    "%matplotlib inline\n",
    "from matplotlib import pyplot as plt\n",
    "import numpy as np\n",
    "\n",
    "axes = [-2, 2.5, -4, 2, 3]\n",
    "def plot_clfs(X, y, clf, axes):\n",
    "    plt.plot(X[:,0][y==0], X[:,1][y==0], \"*\")\n",
    "    plt.plot(X[:,0][y==1], X[:,1][y==1], \".\")\n",
    "    plt.xlabel('Glucose')\n",
    "    plt.ylabel('BMI')\n",
    "    plt.xlim(axes[0], axes[1])\n",
    "    plt.ylim(axes[2], axes[3])\n",
    "    \n",
    "\n",
    "plot_clfs(pipeline.fit_transform(X_test), y_test, l_svc, axes)\n"
   ],
   "metadata": {
    "collapsed": false,
    "pycharm": {
     "name": "#%%\n",
     "is_executing": false
    }
   }
  }
 ],
 "metadata": {
  "kernelspec": {
   "display_name": "Python 3",
   "language": "python",
   "name": "python3"
  },
  "language_info": {
   "codemirror_mode": {
    "name": "ipython",
    "version": 2
   },
   "file_extension": ".py",
   "mimetype": "text/x-python",
   "name": "python",
   "nbconvert_exporter": "python",
   "pygments_lexer": "ipython2",
   "version": "2.7.6"
  },
  "pycharm": {
   "stem_cell": {
    "cell_type": "raw",
    "source": [],
    "metadata": {
     "collapsed": false
    }
   }
  }
 },
 "nbformat": 4,
 "nbformat_minor": 0
}