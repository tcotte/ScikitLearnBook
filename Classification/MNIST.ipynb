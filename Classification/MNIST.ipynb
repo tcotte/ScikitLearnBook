{
 "cells": [
  {
   "cell_type": "code",
   "execution_count": 1,
   "metadata": {
    "collapsed": true,
    "pycharm": {
     "is_executing": false
    }
   },
   "outputs": [],
   "source": [
    "from sklearn.datasets import load_digits\n",
    "from sklearn.datasets import fetch_openml\n",
    "import numpy as np\n",
    "\n",
    "mnist = fetch_openml('mnist_784', version=1)\n",
    "# mnist\n"
   ]
  },
  {
   "cell_type": "code",
   "execution_count": 2,
   "outputs": [
    {
     "data": {
      "text/plain": "(70000, 784)"
     },
     "metadata": {},
     "output_type": "execute_result",
     "execution_count": 2
    }
   ],
   "source": [
    "import numpy as np\n",
    "\n",
    "X, y = mnist[\"data\"], mnist[\"target\"]\n",
    "y = y.astype(np.uint8)\n",
    "X.shape\n"
   ],
   "metadata": {
    "collapsed": false,
    "pycharm": {
     "name": "#%%\n",
     "is_executing": false
    }
   }
  },
  {
   "cell_type": "code",
   "execution_count": 3,
   "outputs": [],
   "source": [
    "%matplotlib inline\n",
    "import matplotlib\n",
    "import matplotlib.pyplot as plt\n",
    "\n",
    "# some_digit = X[1000]\n",
    "# some_digit_image = some_digit.reshape(28, 28)\n",
    "# plt.imshow(some_digit_image, cmap= matplotlib.cm.binary, interpolation=\"nearest\")\n",
    "# plt.axis(\"off\")\n",
    "# plt.show\n",
    "\n"
   ],
   "metadata": {
    "collapsed": false,
    "pycharm": {
     "name": "#%%\n",
     "is_executing": false
    }
   }
  },
  {
   "cell_type": "code",
   "execution_count": 4,
   "outputs": [],
   "source": [
    "# Split the dataset in train and test set\n",
    "import numpy as np\n",
    "X_train, X_test, y_train, y_test = X[:60000], X[60000:], y[:60000], y[60000:]\n",
    "shuffle_index = np.random.permutation(60000)\n",
    "X_train, y_train = X_train[shuffle_index], y_train[shuffle_index]\n"
   ],
   "metadata": {
    "collapsed": false,
    "pycharm": {
     "name": "#%%\n",
     "is_executing": false
    }
   }
  },
  {
   "cell_type": "code",
   "execution_count": 5,
   "outputs": [
    {
     "data": {
      "text/plain": "SGDClassifier(random_state=42)"
     },
     "metadata": {},
     "output_type": "execute_result",
     "execution_count": 5
    }
   ],
   "source": [
    "# Binary classifier\n",
    "\n",
    "from sklearn.linear_model import SGDClassifier\n",
    "y_train_5 = (y_train == 5)  # vrai pour les 5, faux pour le reste.\n",
    "y_test_5 = (y_test == 5)\n",
    "\n",
    "# Stochastic gradient descent \n",
    "sgd_clf = SGDClassifier(tol=1e-3, random_state=42)\n",
    "sgd_clf.fit(X_train, y_train_5)\n"
   ],
   "metadata": {
    "collapsed": false,
    "pycharm": {
     "name": "#%%\n",
     "is_executing": false
    }
   }
  },
  {
   "cell_type": "code",
   "execution_count": 6,
   "outputs": [
    {
     "name": "stdout",
     "text": [
      "[15, 23, 45, 53, 59, 98, 102, 127, 129, 132, 152, 155, 162, 165, 167, 182, 187, 207, 217, 219, 240, 245, 253, 261, 283, 289, 313, 317, 319, 333, 347, 351, 356, 364, 375, 395, 397, 402, 412, 433, 483, 491, 509, 518, 538, 540, 570, 588, 638, 645, 654, 692, 694, 710, 711, 729, 739, 766, 779, 785, 797, 812, 827, 856, 869, 897, 935, 955, 978, 1003, 1014, 1028, 1041, 1046, 1070, 1073, 1085, 1102, 1113, 1131, 1135, 1144, 1153, 1168, 1190, 1202, 1221, 1233, 1234, 1252, 1258, 1281, 1285, 1339, 1340, 1370, 1376, 1405, 1406, 1447, 1460, 1471, 1473, 1476, 1487, 1493, 1510, 1521, 1550, 1587, 1598, 1616, 1618, 1629, 1635, 1639, 1653, 1672, 1677, 1693, 1747, 1752, 1755, 1761, 1774, 1810, 1833, 1846, 1847, 1860, 1866, 1879, 1896, 1902, 1911, 1931, 1940, 1948, 1967, 1973, 1999, 2003, 2021, 2029, 2030, 2047, 2073, 2077, 2078, 2100, 2103, 2113, 2114, 2134, 2159, 2180, 2207, 2214, 2215, 2237, 2241, 2279, 2282, 2346, 2393, 2413, 2445, 2449, 2452, 2476, 2487, 2515, 2518, 2525, 2534, 2540, 2542, 2545, 2546, 2554, 2558, 2569, 2581, 2586, 2597, 2604, 2606, 2639, 2644, 2653, 2682, 2686, 2697, 2743, 2768, 2772, 2773, 2775, 2790, 2797, 2798, 2814, 2839, 2855, 2903, 2909, 2913, 2922, 2930, 2948, 2951, 2957, 2969, 2986, 2987, 3007, 3022, 3028, 3053, 3093, 3113, 3115, 3119, 3127, 3218, 3220, 3254, 3295, 3321, 3334, 3335, 3345, 3372, 3393, 3408, 3416, 3448, 3462, 3470, 3506, 3537, 3552, 3556, 3559, 3567, 3569, 3570, 3590, 3595, 3619, 3623, 3631, 3654, 3663, 3678, 3681, 3750, 3754, 3788, 3797, 3806, 3814, 3826, 3837, 3853, 3855, 3860, 3863, 3877, 3890, 3898, 3907, 3917, 3918, 3928, 3943, 3955, 3957, 3960, 3968, 4031, 4052, 4054, 4063, 4067, 4108, 4118, 4202, 4211, 4219, 4226, 4233, 4236, 4239, 4254, 4307, 4310, 4330, 4340, 4364, 4368, 4374, 4378, 4381, 4420, 4461, 4472, 4504, 4520, 4529, 4577, 4596, 4620, 4637, 4645, 4689, 4696, 4711, 4712, 4722, 4728, 4749, 4762, 4763, 4766, 4771, 4808, 4809, 4810, 4830, 4838, 4844, 4867, 4874, 4892, 4902, 4933, 4979, 5020, 5021, 5056, 5083, 5098, 5102, 5111, 5134, 5152, 5160, 5170, 5174, 5176, 5187, 5196, 5197, 5206, 5207, 5223, 5229, 5231, 5275, 5285, 5295, 5302, 5325, 5339, 5347, 5351, 5364, 5374, 5389, 5397, 5400, 5401, 5410, 5420, 5432, 5445, 5451, 5473, 5480, 5488, 5510, 5518, 5528, 5570, 5571, 5572, 5574, 5598, 5618, 5624, 5632, 5633, 5642, 5658, 5668, 5682, 5697, 5706, 5711, 5742, 5779, 5802, 5807, 5821, 5833, 5843, 5852, 5874, 5885, 5910, 5947, 5964, 5972, 5982, 6028, 6053, 6067, 6077, 6087, 6095, 6120, 6136, 6142, 6146, 6148, 6155, 6165, 6186, 6196, 6206, 6215, 6216, 6227, 6236, 6244, 6257, 6270, 6277, 6282, 6291, 6314, 6324, 6333, 6341, 6368, 6386, 6390, 6392, 6405, 6414, 6415, 6453, 6476, 6483, 6486, 6491, 6500, 6511, 6518, 6522, 6525, 6537, 6544, 6548, 6600, 6611, 6620, 6638, 6641, 6643, 6651, 6657, 6691, 6706, 6716, 6728, 6788, 6803, 6813, 6823, 6832, 6860, 6866, 6879, 6880, 6884, 6886, 6908, 6932, 6942, 6952, 6964, 6965, 6977, 6981, 6991, 7003, 7018, 7029, 7036, 7057, 7067, 7077, 7090, 7108, 7134, 7142, 7155, 7160, 7178, 7187, 7195, 7240, 7241, 7264, 7274, 7284, 7294, 7304, 7306, 7315, 7324, 7351, 7352, 7372, 7388, 7393, 7397, 7403, 7414, 7426, 7427, 7437, 7444, 7448, 7450, 7454, 7474, 7475, 7478, 7481, 7503, 7521, 7531, 7541, 7542, 7559, 7577, 7578, 7583, 7602, 7612, 7622, 7630, 7643, 7649, 7659, 7676, 7698, 7715, 7732, 7742, 7752, 7777, 7793, 7808, 7809, 7819, 7826, 7851, 7860, 7929, 7938, 7948, 7958, 7965, 7974, 7988, 7996, 7997, 8034, 8035, 8038, 8049, 8062, 8072, 8082, 8089, 8122, 8132, 8142, 8143, 8149, 8157, 8158, 8160, 8170, 8180, 8181, 8183, 8185, 8192, 8196, 8214, 8224, 8232, 8236, 8240, 8270, 8275, 8299, 8326, 8327, 8331, 8348, 8366, 8384, 8386, 8412, 8413, 8415, 8444, 8445, 8447, 8463, 8473, 8487, 8507, 8531, 8539, 8563, 8571, 8578, 8601, 8630, 8632, 8643, 8645, 8652, 8653, 8656, 8676, 8686, 8696, 8702, 8710, 8711, 8737, 8741, 8747, 8761, 8774, 8783, 8788, 8803, 8813, 8823, 8834, 8835, 8847, 8853, 8855, 8863, 8878, 8909, 8940, 8948, 8964, 8982, 8987, 9013, 9035, 9065, 9075, 9109, 9114, 9117, 9132, 9159, 9160, 9176, 9184, 9194, 9228, 9234, 9260, 9277, 9280, 9289, 9290, 9298, 9315, 9329, 9331, 9337, 9338, 9349, 9360, 9372, 9427, 9428, 9465, 9478, 9481, 9493, 9503, 9513, 9523, 9533, 9545, 9583, 9584, 9588, 9590, 9600, 9606, 9614, 9616, 9626, 9651, 9671, 9675, 9685, 9698, 9702, 9709, 9732, 9747, 9754, 9777, 9786, 9814, 9830, 9831, 9841, 9853, 9870, 9877, 9907, 9988, 9998]\n"
     ],
     "output_type": "stream"
    }
   ],
   "source": [
    "# Sort all \"5\" predicted in an array\n",
    "value = 1\n",
    "array_5 = []\n",
    "while value < len(X_test):\n",
    "    if sgd_clf.predict([X_test[value]]):\n",
    "        array_5.append(value)\n",
    "    value +=1\n",
    "\n",
    "print(array_5)\n"
   ],
   "metadata": {
    "collapsed": false,
    "pycharm": {
     "name": "#%%\n",
     "is_executing": false
    }
   }
  },
  {
   "cell_type": "code",
   "execution_count": 7,
   "outputs": [
    {
     "data": {
      "text/plain": "array([0.9575, 0.9632, 0.9652])"
     },
     "metadata": {},
     "output_type": "execute_result",
     "execution_count": 7
    }
   ],
   "source": [
    "from sklearn.model_selection import cross_val_score\n",
    "cross_val_score(sgd_clf, X_train, y_train_5, cv=3, scoring=\"accuracy\")\n"
   ],
   "metadata": {
    "collapsed": false,
    "pycharm": {
     "name": "#%%\n",
     "is_executing": false
    }
   }
  },
  {
   "cell_type": "code",
   "execution_count": 8,
   "outputs": [
    {
     "data": {
      "text/plain": "array([0.90735, 0.9076 , 0.914  ])"
     },
     "metadata": {},
     "output_type": "execute_result",
     "execution_count": 8
    }
   ],
   "source": [
    "from sklearn.base import BaseEstimator\n",
    "# Dump classifier which returns 0 for all digits\n",
    "class Never5Clf(BaseEstimator):\n",
    "    def __init__(self):\n",
    "        pass\n",
    "    def fit(self, X, y=None):\n",
    "        pass\n",
    "    def predict(self, X, y=None):\n",
    "        return np.zeros((len(X), 1), dtype=bool)\n",
    "\n",
    "never_5_clf = Never5Clf()\n",
    "cross_val_score(never_5_clf, X_train, y_train_5, cv=3, scoring=\"accuracy\")"
   ],
   "metadata": {
    "collapsed": false,
    "pycharm": {
     "name": "#%%\n",
     "is_executing": false
    }
   }
  },
  {
   "cell_type": "code",
   "execution_count": 9,
   "outputs": [],
   "source": [
    "from sklearn.model_selection import cross_val_predict\n",
    "# Predictions in cross-validation sel\n",
    "y_pred = cross_val_predict(sgd_clf, X_train, y_train_5, cv=3)\n"
   ],
   "metadata": {
    "collapsed": false,
    "pycharm": {
     "name": "#%%\n",
     "is_executing": false
    }
   }
  },
  {
   "cell_type": "code",
   "execution_count": 10,
   "outputs": [
    {
     "data": {
      "text/plain": "0.7706993569131833"
     },
     "metadata": {},
     "output_type": "execute_result",
     "execution_count": 10
    }
   ],
   "source": [
    "from sklearn.metrics import confusion_matrix\n",
    "from sklearn.metrics import precision_score, recall_score, f1_score\n",
    "# Confusion matrix\n",
    "confusion_matrix(y_train_5, y_pred)\n",
    "precision_score(y_train_5, y_pred) #TP/TP+FP\n",
    "recall_score(y_train_5, y_pred) #TP/TP+FN\n",
    "f1_score(y_train_5, y_pred)"
   ],
   "metadata": {
    "collapsed": false,
    "pycharm": {
     "name": "#%%\n",
     "is_executing": false
    }
   }
  },
  {
   "cell_type": "code",
   "execution_count": 11,
   "outputs": [
    {
     "data": {
      "text/plain": "array([False])"
     },
     "metadata": {},
     "output_type": "execute_result",
     "execution_count": 11
    }
   ],
   "source": [
    "# Modify threshold\n",
    "some_digit = X[134]\n",
    "y_scores = sgd_clf.decision_function([some_digit])\n",
    "y_scores\n",
    "threshold = 200\n",
    "y_some_digit_pred = (y_scores > threshold)\n",
    "y_some_digit_pred"
   ],
   "metadata": {
    "collapsed": false,
    "pycharm": {
     "name": "#%%\n",
     "is_executing": false
    }
   }
  },
  {
   "cell_type": "code",
   "execution_count": 12,
   "outputs": [],
   "source": [
    "# Compute prediction values\n",
    "y_scores = cross_val_predict(sgd_clf, X_train, y_train_5, cv=3, method=\"decision_function\")"
   ],
   "metadata": {
    "collapsed": false,
    "pycharm": {
     "name": "#%%\n",
     "is_executing": false
    }
   }
  },
  {
   "cell_type": "code",
   "execution_count": 13,
   "outputs": [],
   "source": [
    "from sklearn.metrics import precision_recall_curve\n",
    "\n",
    "precisions, recalls, thresholds = precision_recall_curve(y_train_5, y_scores)\n",
    "\n",
    "def plot_precision_recall_vs_threshold(precisions, recalls, thresholds):\n",
    "    # plot(x, y, type, label)\n",
    "    plt.plot(thresholds, precisions[:-1], \"b--\", label=\"Precision\")\n",
    "    plt.plot(thresholds, recalls[:-1], \"g-\", label=\"Recalls\")\n",
    "    plt.xlabel(\"Threshold\")\n",
    "    plt.legend(loc=\"upper_left\")\n",
    "    plt.ylim([0, 1])\n",
    "    plt.xlim([-50000, 50000])\n",
    "    \n",
    "# plot_precision_recall_vs_threshold(precisions, recalls, thresholds)\n",
    "# plt.show()\n",
    "    "
   ],
   "metadata": {
    "collapsed": false,
    "pycharm": {
     "name": "#%%\n",
     "is_executing": false
    }
   }
  },
  {
   "cell_type": "code",
   "execution_count": 14,
   "outputs": [],
   "source": [
    "def plot_precision_vs_recall(precisions, recalls):\n",
    "    plt.plot(precisions[:-1], recalls[:-1], color=\"blue\")\n",
    "    plt.ylabel(\"Precisions\")\n",
    "    plt.xlabel(\"Recalls\")\n",
    "    \n",
    "# plot_precision_vs_recall(precisions, recalls)\n",
    "# plt.show()"
   ],
   "metadata": {
    "collapsed": false,
    "pycharm": {
     "name": "#%%\n",
     "is_executing": false
    }
   }
  },
  {
   "cell_type": "code",
   "execution_count": 15,
   "outputs": [
    {
     "data": {
      "text/plain": "0.9415730337078652"
     },
     "metadata": {},
     "output_type": "execute_result",
     "execution_count": 15
    }
   ],
   "source": [
    "# 90% of precision\n",
    "y_train_pred_90 = (y_scores > 3800)\n",
    "\n",
    "precision_score(y_train_5, y_train_pred_90)"
   ],
   "metadata": {
    "collapsed": false,
    "pycharm": {
     "name": "#%%\n",
     "is_executing": false
    }
   }
  },
  {
   "cell_type": "code",
   "execution_count": 16,
   "outputs": [
    {
     "data": {
      "text/plain": "0.4637520752628666"
     },
     "metadata": {},
     "output_type": "execute_result",
     "execution_count": 16
    }
   ],
   "source": [
    "# High precision decrease the recall \n",
    "recall_score(y_train_5, y_train_pred_90)"
   ],
   "metadata": {
    "collapsed": false,
    "pycharm": {
     "name": "#%%\n",
     "is_executing": false
    }
   }
  },
  {
   "cell_type": "code",
   "execution_count": 17,
   "outputs": [],
   "source": [
    "# ROC curve\n",
    "from sklearn.metrics import roc_curve\n",
    "\n",
    "fpr, tpr, thresholds = roc_curve(y_train_5, y_scores)\n",
    "\n",
    "def plot_roc_curve(fpr, tpr, label=None):\n",
    "    plt.plot(fpr, tpr, linewidth=2, label=label)\n",
    "    plt.plot([0, 1], [0, 1], 'k--')\n",
    "    plt.axis([0, 1, 0, 1])\n",
    "    plt.xlabel('False Positive Rate')\n",
    "    plt.ylabel(\"True Positive Rate\")\n",
    "        "
   ],
   "metadata": {
    "collapsed": false,
    "pycharm": {
     "name": "#%%\n",
     "is_executing": false
    }
   }
  },
  {
   "cell_type": "code",
   "execution_count": 18,
   "outputs": [
    {
     "data": {
      "text/plain": "0.960532666003226"
     },
     "metadata": {},
     "output_type": "execute_result",
     "execution_count": 18
    }
   ],
   "source": [
    "from sklearn.metrics import roc_auc_score\n",
    "roc_auc_score(y_train_5, y_scores)"
   ],
   "metadata": {
    "collapsed": false,
    "pycharm": {
     "name": "#%%\n",
     "is_executing": false
    }
   }
  },
  {
   "cell_type": "code",
   "execution_count": 19,
   "outputs": [],
   "source": [
    "# Try random forest clf\n",
    "# from sklearn.ensemble import RandomForestRegressor\n",
    "# \n",
    "# forest_clf = RandomForestRegressor(random_state= 42)\n",
    "# y_probas_forest = cross_val_predict(forest_clf, X_train, y_train_5, cv=3, method=\"predict\")\n",
    "# "
   ],
   "metadata": {
    "collapsed": false,
    "pycharm": {
     "name": "#%%\n",
     "is_executing": false
    }
   }
  },
  {
   "cell_type": "code",
   "execution_count": 20,
   "outputs": [],
   "source": [
    "# y_scores_forest = y_probas_forest[:, 1]\n",
    "# fpr_forest, tpr_forest, thresholds_forest = roc_curve(y_train_5, y_scores_forest)\n",
    "# \n"
   ],
   "metadata": {
    "collapsed": false,
    "pycharm": {
     "name": "#%%\n",
     "is_executing": false
    }
   }
  },
  {
   "cell_type": "code",
   "execution_count": 21,
   "outputs": [
    {
     "data": {
      "text/plain": "array([3], dtype=uint8)"
     },
     "metadata": {},
     "output_type": "execute_result",
     "execution_count": 21
    }
   ],
   "source": [
    "# Multiclass classification\n",
    "sgd_clf.fit(X_train, y_train)\n",
    "sgd_clf.predict([some_digit])\n"
   ],
   "metadata": {
    "collapsed": false,
    "pycharm": {
     "name": "#%%\n",
     "is_executing": false
    }
   }
  },
  {
   "cell_type": "code",
   "execution_count": 22,
   "outputs": [
    {
     "data": {
      "text/plain": "5"
     },
     "metadata": {},
     "output_type": "execute_result",
     "execution_count": 22
    }
   ],
   "source": [
    "# See the predictions for all classes\n",
    "some_digit_scores = sgd_clf.decision_function([some_digit])\n",
    "some_digit_scores\n",
    "\n",
    "# Retrieve which class this digit belongs to\n",
    "np.argmax(some_digit_scores)\n",
    "# Watch all the classes in the multiclass classifier\n",
    "sgd_clf.classes_\n",
    "# Check the class \"5\"\n",
    "sgd_clf.classes_[5]\n"
   ],
   "metadata": {
    "collapsed": false,
    "pycharm": {
     "name": "#%%\n",
     "is_executing": false
    }
   }
  },
  {
   "cell_type": "code",
   "execution_count": 23,
   "outputs": [
    {
     "data": {
      "text/plain": "array([3], dtype=uint8)"
     },
     "metadata": {},
     "output_type": "execute_result",
     "execution_count": 23
    }
   ],
   "source": [
    "# Multiclass classification with OneVsOneClassifier\n",
    "from sklearn.multiclass import OneVsOneClassifier\n",
    "ovo_clf = OneVsOneClassifier(SGDClassifier(random_state=42))\n",
    "ovo_clf.fit(X_train, y_train)\n",
    "ovo_clf.predict([some_digit])\n"
   ],
   "metadata": {
    "collapsed": false,
    "pycharm": {
     "name": "#%%\n",
     "is_executing": false
    }
   }
  },
  {
   "cell_type": "code",
   "execution_count": 24,
   "outputs": [
    {
     "data": {
      "text/plain": "45"
     },
     "metadata": {},
     "output_type": "execute_result",
     "execution_count": 24
    }
   ],
   "source": [
    "# Number of OneVsOne classifiers => n*(n-1)/2\n",
    "len(ovo_clf.estimators_)"
   ],
   "metadata": {
    "collapsed": false,
    "pycharm": {
     "name": "#%%\n",
     "is_executing": false
    }
   }
  },
  {
   "cell_type": "code",
   "execution_count": 25,
   "outputs": [],
   "source": [
    "# RandomForestClassifier\n",
    "# from sklearn.ensemble import RandomForestRegressor\n",
    "# forest_clf = RandomForestRegressor(random_state= 42)\n",
    "# forest_clf.fit(X_train, y_train)\n",
    "# "
   ],
   "metadata": {
    "collapsed": false,
    "pycharm": {
     "name": "#%%\n",
     "is_executing": false
    }
   }
  },
  {
   "cell_type": "code",
   "execution_count": 26,
   "outputs": [],
   "source": [
    "# forest_clf.predict(some_digit.reshape(-1,1))"
   ],
   "metadata": {
    "collapsed": false,
    "pycharm": {
     "name": "#%%\n",
     "is_executing": false
    }
   }
  },
  {
   "cell_type": "code",
   "execution_count": 27,
   "outputs": [
    {
     "name": "stderr",
     "text": [
      "c:\\users\\user\\appdata\\local\\programs\\python\\python38\\lib\\site-packages\\sklearn\\linear_model\\_stochastic_gradient.py:570: ConvergenceWarning: Maximum number of iteration reached before convergence. Consider increasing max_iter to improve the fit.\n",
      "  warnings.warn(\"Maximum number of iteration reached before \"\n"
     ],
     "output_type": "stream"
    },
    {
     "data": {
      "text/plain": "array([0.90205, 0.8981 , 0.897  ])"
     },
     "metadata": {},
     "output_type": "execute_result",
     "execution_count": 27
    }
   ],
   "source": [
    "from sklearn.preprocessing import StandardScaler\n",
    "scaler = StandardScaler()\n",
    "X_train_scaled = scaler.fit_transform(X_train.astype(np.float64))\n",
    "cross_val_score(sgd_clf, X_train_scaled, y_train, cv=3, scoring=\"accuracy\")\n"
   ],
   "metadata": {
    "collapsed": false,
    "pycharm": {
     "name": "#%%\n",
     "is_executing": false
    }
   }
  },
  {
   "cell_type": "code",
   "execution_count": 28,
   "outputs": [
    {
     "name": "stderr",
     "text": [
      "c:\\users\\user\\appdata\\local\\programs\\python\\python38\\lib\\site-packages\\sklearn\\linear_model\\_stochastic_gradient.py:570: ConvergenceWarning: Maximum number of iteration reached before convergence. Consider increasing max_iter to improve the fit.\n",
      "  warnings.warn(\"Maximum number of iteration reached before \"\n"
     ],
     "output_type": "stream"
    },
    {
     "data": {
      "text/plain": "array([[5583,    0,   19,    7,    8,   38,   32,    5,  230,    1],\n       [   0, 6416,   44,   17,    3,   44,    4,    8,  195,   11],\n       [  25,   27, 5254,   79,   66,   23,   69,   40,  365,   10],\n       [  29,   22,  107, 5227,    2,  195,   23,   43,  416,   67],\n       [  12,   14,   38,    8, 5214,    8,   34,   22,  331,  161],\n       [  29,   17,   26,  149,   52, 4441,   77,   19,  541,   70],\n       [  29,   18,   48,    2,   47,   85, 5544,    5,  140,    0],\n       [  22,   13,   53,   20,   44,   10,    5, 5683,  191,  224],\n       [  16,   62,   39,   86,    2,  114,   26,    9, 5454,   43],\n       [  23,   21,   29,   58,  119,   31,    1,  179,  361, 5127]],\n      dtype=int64)"
     },
     "metadata": {},
     "output_type": "execute_result",
     "execution_count": 28
    }
   ],
   "source": [
    "# Error analysis\n",
    "y_train_pred = cross_val_predict(sgd_clf, X_train_scaled, y_train, cv=3)\n",
    "conf_mx = confusion_matrix(y_train, y_train_pred)\n",
    "conf_mx\n",
    "\n"
   ],
   "metadata": {
    "collapsed": false,
    "pycharm": {
     "name": "#%%\n",
     "is_executing": false
    }
   }
  }
 ],
 "metadata": {
  "kernelspec": {
   "name": "python3",
   "language": "python",
   "display_name": "Python 3"
  },
  "language_info": {
   "codemirror_mode": {
    "name": "ipython",
    "version": 2
   },
   "file_extension": ".py",
   "mimetype": "text/x-python",
   "name": "python",
   "nbconvert_exporter": "python",
   "pygments_lexer": "ipython2",
   "version": "2.7.6"
  },
  "pycharm": {
   "stem_cell": {
    "cell_type": "raw",
    "source": [],
    "metadata": {
     "collapsed": false
    }
   }
  }
 },
 "nbformat": 4,
 "nbformat_minor": 0
}