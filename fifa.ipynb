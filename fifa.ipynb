{
 "cells": [
  {
   "cell_type": "code",
   "execution_count": 1,
   "metadata": {
    "pycharm": {
     "is_executing": false
    }
   },
   "outputs": [],
   "source": [
    "from common_functions import *\n",
    "import pandas as pd\n",
    "PATH = \"datasets/Fifa\"\n",
    "\n",
    "fifa = load_housing_data(PATH, \"fifa_data.csv\")"
   ]
  },
  {
   "cell_type": "code",
   "execution_count": 2,
   "metadata": {
    "pycharm": {
     "is_executing": false,
     "name": "#%%\n"
    }
   },
   "outputs": [],
   "source": [
    "from sklearn.preprocessing import LabelEncoder\n",
    "encoder = LabelEncoder()\n",
    "\n",
    "fifa_preferred_foot = fifa['Preferred Foot'].astype('str')\n",
    "fifa_preferred_foot_encoded = encoder.fit_transform(fifa_preferred_foot)\n",
    "fifa['Preferred Foot'] = fifa_preferred_foot_encoded\n",
    "\n",
    "fifa_club_encoded = encoder.fit_transform(fifa['Club'].astype('str'))\n",
    "fifa['Club'] = fifa_club_encoded"
   ]
  },
  {
   "cell_type": "code",
   "execution_count": 3,
   "metadata": {
    "pycharm": {
     "is_executing": false,
     "name": "#%%\n"
    }
   },
   "outputs": [],
   "source": [
    "from sklearn.base import BaseEstimator, TransformerMixin\n",
    "# Drop fifa objects\n",
    "class FeatureDropper(BaseEstimator, TransformerMixin):\n",
    "    def __init__(self, features_names):\n",
    "        self._features_names = features_names\n",
    "\n",
    "    def fit(self, X, y=None):\n",
    "        return self\n",
    "\n",
    "    def transform(self, X, y=None):\n",
    "        X = X.drop(self._features_names, axis=1)\n",
    "        return X"
   ]
  },
  {
   "cell_type": "code",
   "execution_count": 4,
   "metadata": {
    "pycharm": {
     "is_executing": false,
     "name": "#%%\n"
    }
   },
   "outputs": [],
   "source": [
    "class WealthToInt(BaseEstimator, TransformerMixin):\n",
    "    def __init__(self, feature_names):\n",
    "        self._feature_names = feature_names\n",
    "        self._type = type \n",
    "\n",
    "    def fit(self, X, y=None):\n",
    "        return self\n",
    "\n",
    "    def transform(self, X, y=None ):\n",
    "        for column in self._feature_names:\n",
    "            X[column] = X[column].str.replace('€', '')\n",
    "            X[column] = X[column].str.replace('K', '')\n",
    "            X[column] = X[column].str.replace('M', '000')\n",
    "            X[column] = pd.to_numeric(X[column])\n",
    "        return X"
   ]
  },
  {
   "cell_type": "code",
   "execution_count": 5,
   "metadata": {
    "pycharm": {
     "is_executing": false,
     "name": "#%%\n"
    }
   },
   "outputs": [],
   "source": [
    "class WeightToInt(BaseEstimator, TransformerMixin):\n",
    "    def __init__(self):\n",
    "        pass\n",
    "    def fit(self, X, y=None):\n",
    "        return self\n",
    "    def transform(self, X, y=None):\n",
    "        X['Weight'] = X['Weight'].str.replace('lbs', '')\n",
    "        X['Weight'] = pd.to_numeric(X['Weight'])\n",
    "        return X    \n",
    "    "
   ]
  },
  {
   "cell_type": "code",
   "execution_count": 6,
   "metadata": {
    "pycharm": {
     "is_executing": false,
     "name": "#%%\n"
    }
   },
   "outputs": [],
   "source": [
    "# class ObjectToInt(BaseEstimator, TransformerMixin):\n",
    "#     def __init__(self, features):\n",
    "#         self._features = features\n",
    "#     def fit(self, X, y=None):\n",
    "#         return self\n",
    "#     def transform(self, X, y=None):\n",
    "#         for column in self._features:\n",
    "#             if not isinstance(X[column], int):\n",
    "#                 post_series = X[column].str.split(\"+\", expand=True)\n",
    "#                 X[column] = post_series[0].astype('int') + post_series[1].astype('int')\n",
    "#             else:\n",
    "#                 X[column] = X[column]\n",
    "#         return X"
   ]
  },
  {
   "cell_type": "code",
   "execution_count": 7,
   "metadata": {
    "pycharm": {
     "is_executing": false,
     "name": "#%%\n"
    }
   },
   "outputs": [],
   "source": [
    "# Pipeline\n",
    "from sklearn.pipeline import Pipeline\n",
    "\n",
    "\n",
    "positions = [\"CAM\", \"CB\", \"CDM\", \"CF\", \"CM\", \"LAM\", \"LB\", \"LCB\", \"LCM\", \"LDM\", \"LF\", \"LM\", \"LS\", \"LW\", \"LWB\", \n",
    "                  \"RAM\", \"RB\", \"RCB\", \"RCM\", \"RDM\", \"RF\", \"RWB\", \"ST\", \"RM\", \"RS\", \"RW\"]\n",
    "dropped_columns  =[\"Unnamed: 0\", \"Photo\", \"ID\", \"Loaned From\", \"Contract Valid Until\", \"Loaned From\", \n",
    "                               \"Club Logo\", \"Joined\",\"Flag\", \"Height\", \"Name\", \"Nationality\", \"Position\", \"Body Type\",\n",
    "                               \"Real Face\", \"Work Rate\"]\n",
    "wealth_columns = ['Wage', 'Release Clause', 'Value']\n",
    "\n",
    "preprocessing_pipeline = Pipeline([\n",
    "    ('preprocessing_dropping', FeatureDropper(dropped_columns)),\n",
    "    ('preprocessing_wealth', WealthToInt(wealth_columns)),\n",
    "    ('preprocessing_weight', WeightToInt()),\n",
    "    # (\"preprocessing_position\", ObjectToInt(positions))\n",
    "])\n",
    "fifa_dataset = preprocessing_pipeline.fit_transform(fifa)"
   ]
  },
  {
   "cell_type": "code",
   "execution_count": 8,
   "metadata": {
    "pycharm": {
     "is_executing": false,
     "name": "#%%\n"
    }
   },
   "outputs": [],
   "source": [
    "fifa_dataset.dropna(axis=0, inplace=True)"
   ]
  },
  {
   "cell_type": "code",
   "execution_count": 9,
   "metadata": {
    "pycharm": {
     "is_executing": false,
     "name": "#%%\n"
    }
   },
   "outputs": [],
   "source": [
    "def transformObjectIntoInt(column):\n",
    "    if not isinstance(column, int):\n",
    "        post_series = column.str.split(\"+\", expand=True)\n",
    "        column = post_series[0].astype('int') + post_series[1].astype('int')\n",
    "    return column\n",
    "\n",
    "array_position = [\"CAM\", \"CB\", \"CDM\", \"CF\", \"CM\", \"LAM\", \"LB\", \"LCB\", \"LCM\", \"LDM\", \"LF\", \"LM\", \"LS\", \"LW\", \"LWB\", \n",
    "                  \"RAM\", \"RB\", \"RCB\", \"RCM\", \"RDM\", \"RF\", \"RWB\", \"ST\", \"RM\", \"RS\", \"RW\"]\n",
    "for position in array_position:\n",
    "    fifa_dataset[position] = fifa_dataset[position].transform(transformObjectIntoInt)"
   ]
  },
  {
   "cell_type": "code",
   "execution_count": 10,
   "metadata": {
    "pycharm": {
     "is_executing": false,
     "name": "#%%\n"
    }
   },
   "outputs": [],
   "source": [
    "# Create dataset\n",
    "from sklearn.model_selection import train_test_split\n",
    "train_set, test_set = train_test_split(fifa_dataset, test_size=0.2, random_state=42)"
   ]
  },
  {
   "cell_type": "code",
   "execution_count": 11,
   "metadata": {
    "pycharm": {
     "is_executing": false,
     "name": "#%%\n"
    }
   },
   "outputs": [],
   "source": [
    "# Create copy of traning set \n",
    "fifa = train_set.copy()"
   ]
  },
  {
   "cell_type": "code",
   "execution_count": 12,
   "metadata": {
    "pycharm": {
     "is_executing": false,
     "name": "#%%\n"
    }
   },
   "outputs": [],
   "source": [
    "# Separate features of dataset and the labels\n",
    "fifa_dataset_prepared = fifa.drop(\"Potential\", axis=1)\n",
    "fifa_labels = fifa[\"Potential\"].copy()\n",
    "\n",
    "X_test = test_set.drop(\"Potential\", axis=1)\n",
    "y_test = test_set[\"Potential\"].copy()"
   ]
  },
  {
   "cell_type": "code",
   "execution_count": 13,
   "metadata": {
    "pycharm": {
     "is_executing": false,
     "name": "#%%\n"
    }
   },
   "outputs": [],
   "source": [
    "# # Verify the error percentage between the train set and the overall\n",
    "# compare_props = pd.DataFrame({\n",
    "#     \"Overall\": fifa[\"Overall\"].value_counts()/len(fifa),\n",
    "#     \"Train_set\": train_set[\"Overall\"].value_counts()/len(train_set),\n",
    "# }).sort_index()\n",
    "# compare_props[\"%error\"] = 100 * compare_props[\"Train_set\"] / compare_props[\"Overall\"] - 100\n",
    "# # compare_props"
   ]
  },
  {
   "cell_type": "code",
   "execution_count": 14,
   "metadata": {
    "pycharm": {
     "is_executing": false,
     "name": "#%%\n"
    }
   },
   "outputs": [],
   "source": [
    "def display_scores(scores):\n",
    "    print(\"Scores: \", scores)\n",
    "    print(\"Mean: \", scores.mean())\n",
    "    print(\"Standard deviation: \", scores.std())"
   ]
  },
  {
   "cell_type": "code",
   "execution_count": 15,
   "metadata": {
    "pycharm": {
     "is_executing": false,
     "name": "#%%\n"
    }
   },
   "outputs": [],
   "source": [
    "# from sklearn.linear_model import LinearRegression\n",
    "# \n",
    "# lin_reg = LinearRegression()\n",
    "# lin_reg.fit(fifa_dataset_prepared, fifa_labels)"
   ]
  },
  {
   "cell_type": "code",
   "execution_count": 16,
   "metadata": {
    "pycharm": {
     "is_executing": false,
     "name": "#%%\n"
    }
   },
   "outputs": [],
   "source": [
    "# from sklearn.tree import DecisionTreeRegressor\n",
    "# from sklearn.metrics import mean_squared_error\n",
    "# import numpy as np\n",
    "# \n",
    "# tree_reg = DecisionTreeRegressor()\n",
    "# tree_reg.fit(fifa_dataset_prepared, fifa_labels)\n",
    "# \n",
    "# fifa_predictions = tree_reg.predict(fifa_dataset_prepared)\n",
    "# tree_mse = mean_squared_error(fifa_labels, fifa_predictions)\n",
    "# tree_rmse = np.sqrt(tree_mse)\n",
    "# tree_rmse"
   ]
  },
  {
   "cell_type": "code",
   "execution_count": 17,
   "metadata": {
    "pycharm": {
     "is_executing": false,
     "name": "#%%\n"
    }
   },
   "outputs": [],
   "source": [
    "# from sklearn.model_selection import cross_val_score\n",
    "# scores = cross_val_score(tree_reg, fifa_dataset_prepared, fifa_labels, scoring=\"neg_mean_squared_error\", cv=10)\n",
    "# rmse_scores = np.sqrt(-scores)\n",
    "#     \n",
    "# display_scores(rmse_scores)"
   ]
  },
  {
   "cell_type": "code",
   "execution_count": 18,
   "metadata": {
    "pycharm": {
     "is_executing": false,
     "name": "#%%\n"
    }
   },
   "outputs": [],
   "source": [
    "# lin_scores = cross_val_score(lin_reg, fifa_dataset_prepared, fifa_labels, scoring=\"neg_mean_squared_error\", cv=10)\n",
    "# lin_rmse_scores = np.sqrt(-lin_scores)\n",
    "# display_scores(lin_rmse_scores)"
   ]
  },
  {
   "cell_type": "code",
   "execution_count": 19,
   "metadata": {
    "pycharm": {
     "is_executing": false,
     "name": "#%%\n"
    }
   },
   "outputs": [
    {
     "name": "stdout",
     "text": [
      "Scores:  [1.21512909 1.23708314 1.22665669 1.20434491 1.21954993]\n",
      "Mean:  1.220552753693714\n",
      "Standard deviation:  0.010987516429950722\n"
     ],
     "output_type": "stream"
    }
   ],
   "source": [
    "# RandomForestRegressor\n",
    "from sklearn.ensemble import RandomForestRegressor\n",
    "from sklearn.model_selection import cross_val_score\n",
    "import numpy as np\n",
    "\n",
    "forest_reg = RandomForestRegressor()\n",
    "forest_reg.fit(fifa_dataset_prepared, fifa_labels)\n",
    "fifa_predictions = forest_reg.predict(fifa_dataset_prepared)\n",
    "# forest_mse = mean_squared_error(fifa_labels, fifa_predictions)\n",
    "\n",
    "forest_scores = cross_val_score(forest_reg, fifa_dataset_prepared, fifa_labels, scoring=\"neg_mean_squared_error\", cv=5)\n",
    "forest_rmse_scores = np.sqrt(-forest_scores)\n",
    "display_scores(forest_rmse_scores)"
   ]
  },
  {
   "cell_type": "code",
   "execution_count": 20,
   "metadata": {
    "pycharm": {
     "is_executing": false,
     "name": "#%%\n"
    }
   },
   "outputs": [],
   "source": [
    "# from sklearn.model_selection import GridSearchCV\n",
    "# param_grid = [\n",
    "#     {'n_estimators' : [30, 100, 300, 1000], 'max_features': [8, 10, 12, 14]},\n",
    "#     {'bootstrap': [False], 'n_estimators': [3, 10], 'max_features': [2, 3, 4]}\n",
    "# ]\n",
    "# forest_reg = RandomForestRegressor()\n",
    "# grid_search = GridSearchCV(forest_reg, param_grid, cv = 5, scoring=\"neg_mean_squared_error\")\n",
    "# grid_search.fit(fifa_dataset_prepared, fifa_labels)"
   ]
  },
  {
   "cell_type": "code",
   "execution_count": 21,
   "metadata": {
    "pycharm": {
     "is_executing": false,
     "name": "#%%\n"
    }
   },
   "outputs": [],
   "source": [
    "# grid_search.best_params_"
   ]
  },
  {
   "cell_type": "code",
   "execution_count": 26,
   "metadata": {
    "pycharm": {
     "is_executing": false,
     "name": "#%%\n"
    }
   },
   "outputs": [
    {
     "name": "stdout",
     "text": [
      "{'max_features': 15, 'n_estimators': 46}\n"
     ],
     "output_type": "stream"
    }
   ],
   "source": [
    "from sklearn.model_selection import RandomizedSearchCV\n",
    "from scipy.stats import randint\n",
    "# Randomized search\n",
    "distributions = {\n",
    "    'n_estimators': randint(4, 50),\n",
    "    'max_features': randint(4, 16),\n",
    "}\n",
    "\n",
    "forest_reg = RandomForestRegressor()\n",
    "rd_search = RandomizedSearchCV(forest_reg, distributions, n_iter=100, cv=5)\n",
    "model = rd_search.fit(fifa_dataset_prepared, fifa_labels)\n",
    "print(model.best_params_)\n",
    "\n"
   ]
  },
  {
   "cell_type": "code",
   "execution_count": 28,
   "outputs": [
    {
     "name": "stdout",
     "text": [
      "Predictions:\t [75. 81. 72. 69. 80.]\n",
      "Labels:\t [73, 82, 71, 69, 80]\n"
     ],
     "output_type": "stream"
    }
   ],
   "source": [
    "forest_reg_parameterised = RandomForestRegressor(**model.best_params_)\n",
    "best_model = forest_reg_parameterised.fit(fifa_dataset_prepared, fifa_labels)\n",
    "some_data_test_set = X_test.iloc[:5]\n",
    "some_labels = y_test.iloc[:5]\n",
    "print(\"Predictions:\\t\", np.around(best_model.predict(some_data_test_set)))\n",
    "print(\"Labels:\\t\", list(some_labels))\n"
   ],
   "metadata": {
    "collapsed": false,
    "pycharm": {
     "name": "#%%\n",
     "is_executing": false
    }
   }
  },
  {
   "cell_type": "code",
   "execution_count": 32,
   "outputs": [
    {
     "name": "stdout",
     "text": [
      "Scores:  [1.82508767 1.92193035 1.7226857  1.74312226 1.56198378]\n",
      "Mean:  1.7549619548033562\n",
      "Standard deviation:  0.119347033178391\n"
     ],
     "output_type": "stream"
    }
   ],
   "source": [
    "# Test the models\n",
    "forest_scores = cross_val_score(forest_reg_parameterised, X_test, y_test, scoring=\"neg_mean_squared_error\", cv=5)\n",
    "forest_rmse_scores = np.sqrt(-forest_scores)\n",
    "display_scores(forest_rmse_scores)"
   ],
   "metadata": {
    "collapsed": false,
    "pycharm": {
     "name": "#%%\n",
     "is_executing": false
    }
   }
  },
  {
   "cell_type": "code",
   "execution_count": 33,
   "outputs": [
    {
     "name": "stdout",
     "text": [
      "Scores:  [1.42352189 1.38379508 1.27584229 1.35491009 1.26613143]\n",
      "Mean:  1.340840156465478\n",
      "Standard deviation:  0.061131781750532625\n"
     ],
     "output_type": "stream"
    }
   ],
   "source": [
    "forest_scores = cross_val_score(forest_reg, X_test, y_test, scoring=\"neg_mean_squared_error\", cv=5)\n",
    "forest_rmse_scores = np.sqrt(-forest_scores)\n",
    "display_scores(forest_rmse_scores)"
   ],
   "metadata": {
    "collapsed": false,
    "pycharm": {
     "name": "#%%\n",
     "is_executing": false
    }
   }
  },
  {
   "cell_type": "code",
   "execution_count": null,
   "metadata": {
    "pycharm": {
     "is_executing": false,
     "name": "#%%\n"
    }
   },
   "outputs": [],
   "source": [
    "# import numpy as np\n",
    "# some_data_test_set = X_test.iloc[:5]\n",
    "# some_labels = y_test.iloc[:5]\n",
    "# print(\"Predictions:\\t\", np.around(lin_reg.predict(some_data_test_set)))\n",
    "# print(\"Labels:\\t\", list(some_labels))\n",
    "\n"
   ]
  },
  {
   "cell_type": "code",
   "execution_count": null,
   "metadata": {
    "pycharm": {
     "is_executing": false,
     "name": "#%%\n"
    }
   },
   "outputs": [],
   "source": [
    "# from sklearn.metrics import mean_squared_error\n",
    "# fifa_predictions = lin_reg.predict(fifa_dataset_prepared)\n",
    "# lin_mse = mean_squared_error(fifa_labels, fifa_predictions)\n",
    "# lin_rmse = np.sqrt(lin_mse)\n",
    "# lin_rmse\n",
    "# \n",
    "# error_percentage = (lin_rmse/fifa_predictions.mean())*100\n",
    "# print(\"Error percentage is like \",error_percentage,\"%\")\n"
   ]
  }
 ],
 "metadata": {
  "kernelspec": {
   "display_name": "Python 3",
   "language": "python",
   "name": "python3"
  },
  "language_info": {
   "codemirror_mode": {
    "name": "ipython",
    "version": 2
   },
   "file_extension": ".py",
   "mimetype": "text/x-python",
   "name": "python",
   "nbconvert_exporter": "python",
   "pygments_lexer": "ipython2",
   "version": "2.7.6"
  },
  "pycharm": {
   "stem_cell": {
    "cell_type": "raw",
    "source": [],
    "metadata": {
     "collapsed": false
    }
   }
  }
 },
 "nbformat": 4,
 "nbformat_minor": 1
}